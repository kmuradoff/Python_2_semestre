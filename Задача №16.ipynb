{
 "cells": [
  {
   "attachments": {},
   "cell_type": "markdown",
   "id": "90840b68",
   "metadata": {},
   "source": [
    "### Импортировать необходимые библиотеки:"
   ]
  },
  {
   "cell_type": "code",
   "execution_count": 35,
   "id": "fca49fde",
   "metadata": {},
   "outputs": [],
   "source": [
    "import numpy as np\n",
    "import matplotlib.pyplot as plt"
   ]
  },
  {
   "attachments": {},
   "cell_type": "markdown",
   "id": "5492412b",
   "metadata": {},
   "source": [
    "### Создать функцию tikhonov(A, b, alpha):\n",
    "\n",
    "#### Функция принимает матрицу A, вектор b и вектор alpha. Внутри функции определяется количество столбцов матрицы A (n), создаются пустые массивы x и discr размерности (n, len(alpha)). Затем выполняется цикл по всем значениям alpha. В каждой итерации решается регуляризованная система и вычисляется норма невязки. В конце цикла находится индекс минимального значения вектора discr, который соответствует регуляризованному решению с минимальной нормой невязки. Функция возвращает x0, discr0, alpha0, x, discr."
   ]
  },
  {
   "cell_type": "code",
   "execution_count": 36,
   "id": "7ce41fe5",
   "metadata": {},
   "outputs": [],
   "source": [
    "def tikhonov(A, b, alpha):\n",
    "    n = A.shape[1]\n",
    "    x = np.zeros((n, len(alpha)))\n",
    "    discr = np.zeros(len(alpha))\n",
    "    for i in range(len(alpha)):\n",
    "        x[:,i] = np.linalg.solve(A.T @ A + alpha[i] * np.eye(n), A.T @ b)\n",
    "        discr[i] = np.linalg.norm(A @ x[:,i] - b)\n",
    "    ind = np.argmin(discr)\n",
    "    x0 = x[:,ind]\n",
    "    discr0 = discr[ind]\n",
    "    alpha0 = alpha[ind]\n",
    "    return x0, discr0, alpha0, x, discr"
   ]
  },
  {
   "attachments": {},
   "cell_type": "markdown",
   "id": "f43b0295",
   "metadata": {},
   "source": [
    "### Создать исходную систему A и вектор b:"
   ]
  },
  {
   "cell_type": "code",
   "execution_count": 11,
   "id": "a24d57c5",
   "metadata": {},
   "outputs": [],
   "source": [
    "n = 10\n",
    "A = np.random.rand(n,n)\n",
    "b = np.random.rand(n)"
   ]
  },
  {
   "attachments": {},
   "cell_type": "markdown",
   "id": "a5206ec3",
   "metadata": {},
   "source": [
    "### Создать вектор alpha:"
   ]
  },
  {
   "cell_type": "code",
   "execution_count": 12,
   "id": "e6fa57ad",
   "metadata": {},
   "outputs": [],
   "source": [
    "alpha = np.logspace(-8, 0, num=50)"
   ]
  },
  {
   "attachments": {},
   "cell_type": "markdown",
   "id": "b6bccc1d",
   "metadata": {},
   "source": [
    "### Вызвать функцию tikhonov(A, b, alpha):"
   ]
  },
  {
   "cell_type": "code",
   "execution_count": 19,
   "id": "9a513a86",
   "metadata": {},
   "outputs": [],
   "source": [
    "x0, discr0, alpha0, x, discr = tikhonov(A, b, alpha)"
   ]
  },
  {
   "attachments": {},
   "cell_type": "markdown",
   "id": "fae0c8d3",
   "metadata": {},
   "source": [
    "### Построить график зависимости ошибки и нормы невязки от порядка системы:\n",
    "\n",
    "### Для проведения эксперимента с плохообусловленными системами из задания №8, мы можем сгенерировать матрицы и векторы для систем разных порядков (например, от 2 до 10) и применить функцию tikhonov для нахождения регуляризованных решений и соответствующих норм невязок. Затем мы можем построить графики зависимости ошибки и нормы невязки от порядка системы.\n",
    "\n",
    "### Для конкретной системы, мы можем использовать функцию tikhonov с разными значениями параметра alpha и построить графики зависимости ошибки и нормы невязки от alpha. Это позволит нам выбрать \"оптимальное\" значение alpha для данной системы."
   ]
  },
  {
   "cell_type": "code",
   "execution_count": null,
   "id": "68caded2",
   "metadata": {},
   "outputs": [
    {
     "data": {
      "text/plain": [
       "[<matplotlib.lines.Line2D at 0x2315240ffd0>]"
      ]
     },
     "execution_count": 14,
     "metadata": {},
     "output_type": "execute_result"
    },
    {
     "data": {
      "image/png": "[encoded data removed]",
      "text/plain": [
       "<Figure size 640x480 with 1 Axes>"
      ]
     },
     "metadata": {},
     "output_type": "display_data"
    }
   ],
   "source": [
    "n_range = np.arange(5, 101, 5)\n",
    "discr_range = np.zeros(len(n_range))\n",
    "error_range = np.zeros(len(n_range))\n",
    "\n",
    "for i in range(len(n_range)):\n",
    "    A = np.random.rand(n_range[i], n_range[i])\n",
    "    b = np.random.rand(n_range[i])\n",
    "    alpha = np.logspace(-8, 0, num=50)\n",
    "    x0, discr0, alpha0, x, discr = tikhonov(A, b, alpha)\n",
    "    discr_range[i] = discr0\n",
    "    error_range[i] = np.linalg.norm(x0 - np.linalg.solve(A,b))\n",
    "\n",
    "    \n",
    "# Построение графиков зависимости ошибки и нормы невязки от порядка системы\n",
    "plt.plot(n_range, discr_range, label='Норма невязки')\n",
    "plt.plot(n_range, error_range, label='Ошибка')\n",
    "plt.xlabel('Последовательность системы')\n",
    "plt.ylabel('Значение')\n",
    "plt.title('Зависимость ошибки и нормы невязки от порядка системы')\n",
    "plt.legend()\n",
    "plt.show()\n",
    "\n",
    "# Построение графиков зависимости ошибки и нормы невязки от alpha\n",
    "plt.semilogx(alpha, discr, label='Норма невязки')\n",
    "plt.semilogx(alpha, np.linalg.norm(x - np.linalg.solve(A,b)[:,np.newaxis], axis=0), label='Ошибка')\n",
    "plt.ylabel('Значение')\n",
    "plt.title('Зависимость ошибки и нормы невязки от alpha')\n",
    "plt.legend()\n",
    "plt.show()"
   ]
  }
 ],
 "metadata": {
  "kernelspec": {
   "display_name": "Python 3 (ipykernel)",
   "language": "python",
   "name": "python3"
  },
  "language_info": {
   "codemirror_mode": {
    "name": "ipython",
    "version": 3
   },
   "file_extension": ".py",
   "mimetype": "text/x-python",
   "name": "python",
   "nbconvert_exporter": "python",
   "pygments_lexer": "ipython3",
   "version": "3.11.2"
  }
 },
 "nbformat": 4,
 "nbformat_minor": 5
}
